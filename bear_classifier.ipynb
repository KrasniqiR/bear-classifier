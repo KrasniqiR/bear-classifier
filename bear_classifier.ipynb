{
 "cells": [
  {
   "cell_type": "code",
   "execution_count": 1,
   "id": "1e1e7060-4f39-4a1b-9f54-813cbb9e8934",
   "metadata": {
    "execution": {
     "iopub.execute_input": "2022-10-05T17:00:02.102783Z",
     "iopub.status.busy": "2022-10-05T17:00:02.102414Z",
     "iopub.status.idle": "2022-10-05T17:00:05.476955Z",
     "shell.execute_reply": "2022-10-05T17:00:05.475674Z",
     "shell.execute_reply.started": "2022-10-05T17:00:02.102753Z"
    }
   },
   "outputs": [],
   "source": [
    "#hide\n",
    "! [ -e /content ] && pip install -Uqq fastbook\n",
    "import fastbook\n",
    "fastbook.setup_book()"
   ]
  },
  {
   "cell_type": "code",
   "execution_count": 2,
   "id": "f5a6eaba-a3dc-4df7-aa5e-33d998a01e50",
   "metadata": {},
   "outputs": [],
   "source": [
    "#hide\n",
    "from fastbook import *\n",
    "from fastai.vision.widgets import *\n",
    "from pathlib import Path"
   ]
  },
  {
   "cell_type": "code",
   "execution_count": 3,
   "id": "ba9ec0e5-b388-4b32-ba2b-088807cd10f2",
   "metadata": {},
   "outputs": [],
   "source": [
    "btn_upload = SimpleNamespace(data = ['images/grizzly.jpg'])"
   ]
  },
  {
   "cell_type": "code",
   "execution_count": 4,
   "id": "8e68787a-da76-4209-882e-7f5f67428b41",
   "metadata": {
    "execution": {
     "iopub.execute_input": "2022-10-05T16:11:13.861640Z",
     "iopub.status.busy": "2022-10-05T16:11:13.861249Z",
     "iopub.status.idle": "2022-10-05T16:11:13.880994Z",
     "shell.execute_reply": "2022-10-05T16:11:13.880267Z",
     "shell.execute_reply.started": "2022-10-05T16:11:13.861615Z"
    }
   },
   "outputs": [],
   "source": [
    "img = PILImage.create(btn_upload.data[-1])"
   ]
  },
  {
   "cell_type": "code",
   "execution_count": 5,
   "id": "cd1b3c67-6f4a-4ac9-afd5-29eab144569f",
   "metadata": {
    "execution": {
     "iopub.execute_input": "2022-10-05T16:11:14.960316Z",
     "iopub.status.busy": "2022-10-05T16:11:14.959413Z",
     "iopub.status.idle": "2022-10-05T16:11:14.988417Z",
     "shell.execute_reply": "2022-10-05T16:11:14.987124Z",
     "shell.execute_reply.started": "2022-10-05T16:11:14.960288Z"
    }
   },
   "outputs": [
    {
     "data": {
      "application/vnd.jupyter.widget-view+json": {
       "model_id": "8404671a6ad5482f90b063ecfbbc797a",
       "version_major": 2,
       "version_minor": 0
      },
      "text/plain": [
       "Output()"
      ]
     },
     "execution_count": 5,
     "metadata": {},
     "output_type": "execute_result"
    }
   ],
   "source": [
    "out_pl = widgets.Output()\n",
    "out_pl.clear_output()\n",
    "with out_pl: display(img.to_thumb(128,128))\n",
    "out_pl"
   ]
  },
  {
   "cell_type": "code",
   "execution_count": 6,
   "id": "e8c6436c-d000-4332-804e-a4bfde4f5973",
   "metadata": {},
   "outputs": [
    {
     "data": {
      "text/plain": [
       "(#1) [Path('export.pkl')]"
      ]
     },
     "execution_count": 6,
     "metadata": {},
     "output_type": "execute_result"
    }
   ],
   "source": [
    "path = Path()\n",
    "path.ls(file_exts='.pkl')"
   ]
  },
  {
   "cell_type": "code",
   "execution_count": 7,
   "id": "a5ab70ac-dff5-4c6a-8d1d-fe9ec54ae6a8",
   "metadata": {},
   "outputs": [],
   "source": [
    "learn_inf = load_learner(path/'export.pkl')"
   ]
  },
  {
   "cell_type": "code",
   "execution_count": 8,
   "id": "8ab7a3f5-4294-4458-8817-6a756da4730a",
   "metadata": {
    "execution": {
     "iopub.execute_input": "2022-10-05T16:11:16.772001Z",
     "iopub.status.busy": "2022-10-05T16:11:16.771609Z",
     "iopub.status.idle": "2022-10-05T16:11:16.868936Z",
     "shell.execute_reply": "2022-10-05T16:11:16.868204Z",
     "shell.execute_reply.started": "2022-10-05T16:11:16.771974Z"
    }
   },
   "outputs": [
    {
     "data": {
      "text/html": [
       "\n",
       "<style>\n",
       "    /* Turns off some styling */\n",
       "    progress {\n",
       "        /* gets rid of default border in Firefox and Opera. */\n",
       "        border: none;\n",
       "        /* Needs to be in here for Safari polyfill so background images work as expected. */\n",
       "        background-size: auto;\n",
       "    }\n",
       "    progress:not([value]), progress:not([value])::-webkit-progress-bar {\n",
       "        background: repeating-linear-gradient(45deg, #7e7e7e, #7e7e7e 10px, #5c5c5c 10px, #5c5c5c 20px);\n",
       "    }\n",
       "    .progress-bar-interrupted, .progress-bar-interrupted::-webkit-progress-bar {\n",
       "        background: #F44336;\n",
       "    }\n",
       "</style>\n"
      ],
      "text/plain": [
       "<IPython.core.display.HTML object>"
      ]
     },
     "metadata": {},
     "output_type": "display_data"
    },
    {
     "data": {
      "text/html": [],
      "text/plain": [
       "<IPython.core.display.HTML object>"
      ]
     },
     "metadata": {},
     "output_type": "display_data"
    }
   ],
   "source": [
    "pred,pred_idx,probs = learn_inf.predict(img)"
   ]
  },
  {
   "cell_type": "code",
   "execution_count": 9,
   "id": "6c1a9284-5505-4674-9f84-1823248039f8",
   "metadata": {
    "execution": {
     "iopub.execute_input": "2022-10-05T16:11:17.889024Z",
     "iopub.status.busy": "2022-10-05T16:11:17.888669Z",
     "iopub.status.idle": "2022-10-05T16:11:17.903094Z",
     "shell.execute_reply": "2022-10-05T16:11:17.901927Z",
     "shell.execute_reply.started": "2022-10-05T16:11:17.888997Z"
    }
   },
   "outputs": [
    {
     "data": {
      "application/vnd.jupyter.widget-view+json": {
       "model_id": "cc12ec38e2464677a4362617487cd9e5",
       "version_major": 2,
       "version_minor": 0
      },
      "text/plain": [
       "Label(value='Prediction: grizzly; Probability: 1.0000')"
      ]
     },
     "execution_count": 9,
     "metadata": {},
     "output_type": "execute_result"
    }
   ],
   "source": [
    "lbl_pred = widgets.Label()\n",
    "lbl_pred.value = f'Prediction: {pred}; Probability: {probs[pred_idx]:.04f}'\n",
    "lbl_pred"
   ]
  },
  {
   "cell_type": "code",
   "execution_count": 10,
   "id": "f52139b7-82b0-46dd-a7f5-93d286e1ef46",
   "metadata": {},
   "outputs": [
    {
     "data": {
      "application/vnd.jupyter.widget-view+json": {
       "model_id": "3ab2e4219bb44a4d86ff17a917556f72",
       "version_major": 2,
       "version_minor": 0
      },
      "text/plain": [
       "Button(description='Classify', style=ButtonStyle())"
      ]
     },
     "execution_count": 10,
     "metadata": {},
     "output_type": "execute_result"
    }
   ],
   "source": [
    "btn_run = widgets.Button(description='Classify')\n",
    "btn_run"
   ]
  },
  {
   "cell_type": "code",
   "execution_count": 11,
   "id": "c8eb38b4-66a6-451a-b05b-c477b4974efc",
   "metadata": {},
   "outputs": [],
   "source": [
    "def on_click_classify(change):\n",
    "    img = PILImage.create(btn_upload.data[-1])\n",
    "    out_pl.clear_output()\n",
    "    with out_pl: display(img.to_thumb(128,128))\n",
    "    pred,pred_idx,probs = learn_inf.predict(img)\n",
    "    lbl_pred.value = f'Prediction: {pred}; Probability: {probs[pred_idx]:.04f}'\n",
    "\n",
    "btn_run.on_click(on_click_classify)"
   ]
  },
  {
   "cell_type": "code",
   "execution_count": 12,
   "id": "9272ffdb-ed31-4254-bfda-e346fb731436",
   "metadata": {},
   "outputs": [],
   "source": [
    "#hide\n",
    "#Putting back btn_upload to a widget for next cell\n",
    "btn_upload = widgets.FileUpload()"
   ]
  },
  {
   "cell_type": "code",
   "execution_count": 13,
   "id": "76e8f017-e8b5-4149-9687-f3bbf2fd7a44",
   "metadata": {},
   "outputs": [
    {
     "data": {
      "application/vnd.jupyter.widget-view+json": {
       "model_id": "35e07740f29e44f5abf761d54b68caed",
       "version_major": 2,
       "version_minor": 0
      },
      "text/plain": [
       "VBox(children=(Label(value='Select your bear!'), FileUpload(value=(), description='Upload'), Button(descriptio…"
      ]
     },
     "execution_count": 13,
     "metadata": {},
     "output_type": "execute_result"
    }
   ],
   "source": [
    "VBox([widgets.Label('Select your bear!'), \n",
    "      btn_upload, btn_run, out_pl, lbl_pred])"
   ]
  },
  {
   "cell_type": "code",
   "execution_count": 14,
   "id": "2cd93d04-e5fb-4607-a192-78bbe50c2c1f",
   "metadata": {
    "execution": {
     "iopub.execute_input": "2022-10-05T16:59:18.530074Z",
     "iopub.status.busy": "2022-10-05T16:59:18.529444Z",
     "iopub.status.idle": "2022-10-05T16:59:26.498637Z",
     "shell.execute_reply": "2022-10-05T16:59:26.497341Z",
     "shell.execute_reply.started": "2022-10-05T16:59:18.529953Z"
    }
   },
   "outputs": [
    {
     "name": "stdout",
     "output_type": "stream",
     "text": [
      "Requirement already satisfied: voila in ./.venv/lib/python3.10/site-packages (0.3.6)\n",
      "Requirement already satisfied: traitlets<6,>=5.0.3 in ./.venv/lib/python3.10/site-packages (from voila) (5.4.0)\n",
      "Requirement already satisfied: nbclient<0.6,>=0.4.0 in ./.venv/lib/python3.10/site-packages (from voila) (0.5.13)\n",
      "Requirement already satisfied: jupyter-client<8,>=6.1.3 in ./.venv/lib/python3.10/site-packages (from voila) (7.3.5)\n",
      "Requirement already satisfied: nbconvert<7,>=6.4.5 in ./.venv/lib/python3.10/site-packages (from voila) (6.5.4)\n",
      "Requirement already satisfied: jupyter-server<2.0.0,>=1.18 in ./.venv/lib/python3.10/site-packages (from voila) (1.19.1)\n",
      "Requirement already satisfied: jupyter-core>=4.11.0 in ./.venv/lib/python3.10/site-packages (from voila) (4.11.1)\n",
      "Requirement already satisfied: jupyterlab-server<3,>=2.3.0 in ./.venv/lib/python3.10/site-packages (from voila) (2.15.2)\n",
      "Requirement already satisfied: websockets>=9.0 in ./.venv/lib/python3.10/site-packages (from voila) (10.3)\n",
      "Requirement already satisfied: python-dateutil>=2.8.2 in ./.venv/lib/python3.10/site-packages (from jupyter-client<8,>=6.1.3->voila) (2.8.2)\n",
      "Requirement already satisfied: tornado>=6.2 in ./.venv/lib/python3.10/site-packages (from jupyter-client<8,>=6.1.3->voila) (6.2)\n",
      "Requirement already satisfied: entrypoints in ./.venv/lib/python3.10/site-packages (from jupyter-client<8,>=6.1.3->voila) (0.4)\n",
      "Requirement already satisfied: pyzmq>=23.0 in ./.venv/lib/python3.10/site-packages (from jupyter-client<8,>=6.1.3->voila) (24.0.1)\n",
      "Requirement already satisfied: nest-asyncio>=1.5.4 in ./.venv/lib/python3.10/site-packages (from jupyter-client<8,>=6.1.3->voila) (1.5.6)\n",
      "Requirement already satisfied: Send2Trash in ./.venv/lib/python3.10/site-packages (from jupyter-server<2.0.0,>=1.18->voila) (1.8.0)\n",
      "Requirement already satisfied: argon2-cffi in ./.venv/lib/python3.10/site-packages (from jupyter-server<2.0.0,>=1.18->voila) (21.3.0)\n",
      "Requirement already satisfied: jinja2 in ./.venv/lib/python3.10/site-packages (from jupyter-server<2.0.0,>=1.18->voila) (3.1.2)\n",
      "Requirement already satisfied: prometheus-client in ./.venv/lib/python3.10/site-packages (from jupyter-server<2.0.0,>=1.18->voila) (0.14.1)\n",
      "Requirement already satisfied: anyio<4,>=3.1.0 in ./.venv/lib/python3.10/site-packages (from jupyter-server<2.0.0,>=1.18->voila) (3.6.1)\n",
      "Requirement already satisfied: terminado>=0.8.3 in ./.venv/lib/python3.10/site-packages (from jupyter-server<2.0.0,>=1.18->voila) (0.16.0)\n",
      "Requirement already satisfied: websocket-client in ./.venv/lib/python3.10/site-packages (from jupyter-server<2.0.0,>=1.18->voila) (1.4.1)\n",
      "Requirement already satisfied: packaging in ./.venv/lib/python3.10/site-packages (from jupyter-server<2.0.0,>=1.18->voila) (21.3)\n",
      "Requirement already satisfied: nbformat>=5.2.0 in ./.venv/lib/python3.10/site-packages (from jupyter-server<2.0.0,>=1.18->voila) (5.6.1)\n",
      "Requirement already satisfied: json5 in ./.venv/lib/python3.10/site-packages (from jupyterlab-server<3,>=2.3.0->voila) (0.9.10)\n",
      "Requirement already satisfied: jsonschema>=3.0.1 in ./.venv/lib/python3.10/site-packages (from jupyterlab-server<3,>=2.3.0->voila) (4.16.0)\n",
      "Requirement already satisfied: babel in ./.venv/lib/python3.10/site-packages (from jupyterlab-server<3,>=2.3.0->voila) (2.10.3)\n",
      "Requirement already satisfied: requests in ./.venv/lib/python3.10/site-packages (from jupyterlab-server<3,>=2.3.0->voila) (2.28.1)\n",
      "Requirement already satisfied: defusedxml in ./.venv/lib/python3.10/site-packages (from nbconvert<7,>=6.4.5->voila) (0.7.1)\n",
      "Requirement already satisfied: mistune<2,>=0.8.1 in ./.venv/lib/python3.10/site-packages (from nbconvert<7,>=6.4.5->voila) (0.8.4)\n",
      "Requirement already satisfied: pygments>=2.4.1 in ./.venv/lib/python3.10/site-packages (from nbconvert<7,>=6.4.5->voila) (2.13.0)\n",
      "Requirement already satisfied: beautifulsoup4 in ./.venv/lib/python3.10/site-packages (from nbconvert<7,>=6.4.5->voila) (4.11.1)\n",
      "Requirement already satisfied: lxml in ./.venv/lib/python3.10/site-packages (from nbconvert<7,>=6.4.5->voila) (4.9.1)\n",
      "Requirement already satisfied: tinycss2 in ./.venv/lib/python3.10/site-packages (from nbconvert<7,>=6.4.5->voila) (1.1.1)\n",
      "Requirement already satisfied: jupyterlab-pygments in ./.venv/lib/python3.10/site-packages (from nbconvert<7,>=6.4.5->voila) (0.2.2)\n",
      "Requirement already satisfied: MarkupSafe>=2.0 in ./.venv/lib/python3.10/site-packages (from nbconvert<7,>=6.4.5->voila) (2.1.1)\n",
      "Requirement already satisfied: pandocfilters>=1.4.1 in ./.venv/lib/python3.10/site-packages (from nbconvert<7,>=6.4.5->voila) (1.5.0)\n",
      "Requirement already satisfied: bleach in ./.venv/lib/python3.10/site-packages (from nbconvert<7,>=6.4.5->voila) (5.0.1)\n",
      "Requirement already satisfied: idna>=2.8 in ./.venv/lib/python3.10/site-packages (from anyio<4,>=3.1.0->jupyter-server<2.0.0,>=1.18->voila) (3.4)\n",
      "Requirement already satisfied: sniffio>=1.1 in ./.venv/lib/python3.10/site-packages (from anyio<4,>=3.1.0->jupyter-server<2.0.0,>=1.18->voila) (1.3.0)\n",
      "Requirement already satisfied: attrs>=17.4.0 in ./.venv/lib/python3.10/site-packages (from jsonschema>=3.0.1->jupyterlab-server<3,>=2.3.0->voila) (22.1.0)\n",
      "Requirement already satisfied: pyrsistent!=0.17.0,!=0.17.1,!=0.17.2,>=0.14.0 in ./.venv/lib/python3.10/site-packages (from jsonschema>=3.0.1->jupyterlab-server<3,>=2.3.0->voila) (0.18.1)\n",
      "Requirement already satisfied: fastjsonschema in ./.venv/lib/python3.10/site-packages (from nbformat>=5.2.0->jupyter-server<2.0.0,>=1.18->voila) (2.16.2)\n",
      "Requirement already satisfied: six>=1.5 in ./.venv/lib/python3.10/site-packages (from python-dateutil>=2.8.2->jupyter-client<8,>=6.1.3->voila) (1.16.0)\n",
      "Requirement already satisfied: ptyprocess in ./.venv/lib/python3.10/site-packages (from terminado>=0.8.3->jupyter-server<2.0.0,>=1.18->voila) (0.7.0)\n",
      "Requirement already satisfied: argon2-cffi-bindings in ./.venv/lib/python3.10/site-packages (from argon2-cffi->jupyter-server<2.0.0,>=1.18->voila) (21.2.0)\n",
      "Requirement already satisfied: pytz>=2015.7 in ./.venv/lib/python3.10/site-packages (from babel->jupyterlab-server<3,>=2.3.0->voila) (2022.4)\n",
      "Requirement already satisfied: soupsieve>1.2 in ./.venv/lib/python3.10/site-packages (from beautifulsoup4->nbconvert<7,>=6.4.5->voila) (2.3.2.post1)\n",
      "Requirement already satisfied: webencodings in ./.venv/lib/python3.10/site-packages (from bleach->nbconvert<7,>=6.4.5->voila) (0.5.1)\n",
      "Requirement already satisfied: pyparsing!=3.0.5,>=2.0.2 in ./.venv/lib/python3.10/site-packages (from packaging->jupyter-server<2.0.0,>=1.18->voila) (3.0.9)\n",
      "Requirement already satisfied: certifi>=2017.4.17 in ./.venv/lib/python3.10/site-packages (from requests->jupyterlab-server<3,>=2.3.0->voila) (2022.9.24)\n",
      "Requirement already satisfied: charset-normalizer<3,>=2 in ./.venv/lib/python3.10/site-packages (from requests->jupyterlab-server<3,>=2.3.0->voila) (2.1.1)\n",
      "Requirement already satisfied: urllib3<1.27,>=1.21.1 in ./.venv/lib/python3.10/site-packages (from requests->jupyterlab-server<3,>=2.3.0->voila) (1.26.12)\n",
      "Requirement already satisfied: cffi>=1.0.1 in ./.venv/lib/python3.10/site-packages (from argon2-cffi-bindings->argon2-cffi->jupyter-server<2.0.0,>=1.18->voila) (1.15.1)\n",
      "Requirement already satisfied: pycparser in ./.venv/lib/python3.10/site-packages (from cffi>=1.0.1->argon2-cffi-bindings->argon2-cffi->jupyter-server<2.0.0,>=1.18->voila) (2.21)\n",
      "\u001b[33mWARNING: You are using pip version 22.0.4; however, version 22.2.2 is available.\n",
      "You should consider upgrading via the '/Users/ron/Projects/fast-ai/.venv/bin/python -m pip install --upgrade pip' command.\u001b[0m\u001b[33m\n",
      "\u001b[0mEnabling: voila\n",
      "- Writing config: /Users/ron/Projects/fast-ai/.venv/etc/jupyter\n",
      "    - Validating...\n",
      "      voila 0.3.6 \u001b[32mOK\u001b[0m\n"
     ]
    }
   ],
   "source": [
    "!pip install voila\n",
    "!jupyter serverextension enable --sys-prefix voila"
   ]
  },
  {
   "cell_type": "code",
   "execution_count": null,
   "id": "d787702b",
   "metadata": {},
   "outputs": [],
   "source": []
  }
 ],
 "metadata": {
  "kernelspec": {
   "display_name": "Python 3 (ipykernel)",
   "language": "python",
   "name": "python3"
  },
  "language_info": {
   "codemirror_mode": {
    "name": "ipython",
    "version": 3
   },
   "file_extension": ".py",
   "mimetype": "text/x-python",
   "name": "python",
   "nbconvert_exporter": "python",
   "pygments_lexer": "ipython3",
   "version": "3.10.5"
  }
 },
 "nbformat": 4,
 "nbformat_minor": 5
}
